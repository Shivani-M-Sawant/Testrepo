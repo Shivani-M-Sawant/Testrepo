{
 "cells": [
  {
   "cell_type": "markdown",
   "id": "edc5e6cd",
   "metadata": {},
   "source": [
    "# Data Science Tools and Ecosystem"
   ]
  },
  {
   "cell_type": "markdown",
   "id": "c7c254b8",
   "metadata": {},
   "source": [
    "## In this notebook, Data Science Tools and Ecosystem are summarized."
   ]
  },
  {
   "cell_type": "markdown",
   "id": "8a13ef57",
   "metadata": {},
   "source": [
    "#### Some of the popular languages that Data Scientists use are:\n",
    "1. SQL\n",
    "2. Scala\n",
    "3. Python\n",
    "4. R"
   ]
  },
  {
   "cell_type": "markdown",
   "id": "8ec03caf",
   "metadata": {},
   "source": [
    "#### Some of the commonly used libraries used by Data Scientists include:\n",
    "1. Scipy\n",
    "2. Plotly\n",
    "3. Numpy\n",
    "4. Seaborn"
   ]
  },
  {
   "cell_type": "markdown",
   "id": "ca56092a",
   "metadata": {},
   "source": [
    "| Data Science tools|\n",
    "|:-----------------:|\n",
    "|Jupyter Noteook|\n",
    "|Pycharm|\n",
    "|Visual Studio|"
   ]
  },
  {
   "cell_type": "markdown",
   "id": "ffc80fbe",
   "metadata": {},
   "source": [
    "### Below are a few examples of evaluating arithmetic expressions in Python."
   ]
  },
  {
   "cell_type": "code",
   "execution_count": 3,
   "id": "9b4a62ab",
   "metadata": {},
   "outputs": [
    {
     "data": {
      "text/plain": [
       "17"
      ]
     },
     "execution_count": 3,
     "metadata": {},
     "output_type": "execute_result"
    }
   ],
   "source": [
    "(3*4)+5\n",
    "\n",
    "### This a simple arithmetic expression to mutiply then add integers.\n"
   ]
  },
  {
   "cell_type": "code",
   "execution_count": 4,
   "id": "85d62805",
   "metadata": {},
   "outputs": [
    {
     "data": {
      "text/plain": [
       "3.3333333333333335"
      ]
     },
     "execution_count": 4,
     "metadata": {},
     "output_type": "execute_result"
    }
   ],
   "source": [
    "200/60\n",
    "\n",
    "### This will convert 200 minutes to hours by diving by 60"
   ]
  },
  {
   "cell_type": "markdown",
   "id": "68a83d59",
   "metadata": {},
   "source": [
    "## Objective:\n",
    "\n",
    "- Popular Languages in Data Science\n",
    "- Popular environment in data science\n",
    "- Arithmetic Operations"
   ]
  },
  {
   "cell_type": "markdown",
   "id": "23378613",
   "metadata": {},
   "source": [
    "## Author\n",
    "### Shivani Sawant"
   ]
  },
  {
   "cell_type": "code",
   "execution_count": null,
   "id": "68f66658",
   "metadata": {},
   "outputs": [],
   "source": []
  }
 ],
 "metadata": {
  "kernelspec": {
   "display_name": "Python 3 (ipykernel)",
   "language": "python",
   "name": "python3"
  },
  "language_info": {
   "codemirror_mode": {
    "name": "ipython",
    "version": 3
   },
   "file_extension": ".py",
   "mimetype": "text/x-python",
   "name": "python",
   "nbconvert_exporter": "python",
   "pygments_lexer": "ipython3",
   "version": "3.9.12"
  }
 },
 "nbformat": 4,
 "nbformat_minor": 5
}
